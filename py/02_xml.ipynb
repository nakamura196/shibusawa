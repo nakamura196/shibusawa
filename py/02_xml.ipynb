{
 "cells": [
  {
   "cell_type": "code",
   "execution_count": 1,
   "metadata": {},
   "outputs": [],
   "source": [
    "from bs4 import BeautifulSoup\n",
    "import pandas as pd\n",
    "from tqdm import tqdm\n",
    "import os"
   ]
  },
  {
   "cell_type": "code",
   "execution_count": 2,
   "metadata": {},
   "outputs": [],
   "source": [
    "xml_path = \"/Users/nakamura/git/hori/lab1/tei/DKB01.xml\""
   ]
  },
  {
   "cell_type": "code",
   "execution_count": 3,
   "metadata": {},
   "outputs": [],
   "source": [
    "soup = BeautifulSoup(open(xml_path), \"xml\")"
   ]
  },
  {
   "cell_type": "code",
   "execution_count": 4,
   "metadata": {},
   "outputs": [
    {
     "data": {
      "text/plain": [
       "4259"
      ]
     },
     "execution_count": 4,
     "metadata": {},
     "output_type": "execute_result"
    }
   ],
   "source": [
    "entries = soup.find_all(\"div\", type=\"diary-entry\")\n",
    "\n",
    "len(entries)"
   ]
  },
  {
   "cell_type": "code",
   "execution_count": 5,
   "metadata": {},
   "outputs": [
    {
     "name": "stderr",
     "output_type": "stream",
     "text": [
      "100%|██████████| 4259/4259 [00:00<00:00, 4372.78it/s]\n"
     ]
    }
   ],
   "source": [
    "rows = []\n",
    "\n",
    "for entry in tqdm(entries):\n",
    "\n",
    "    id = entry.get(\"xml:id\")\n",
    "\n",
    "    date = entry.find(\"date\")\n",
    "\n",
    "    if date is None:\n",
    "        continue\n",
    "\n",
    "    when = date.get(\"when\")\n",
    "\n",
    "    p = entry.find(\"p\")\n",
    "\n",
    "    # print(str(p))\n",
    "\n",
    "    rows.append(\n",
    "        {\n",
    "            \"id\": id,\n",
    "            \"date\": when,\n",
    "            \"text\": str(p)\n",
    "        }\n",
    "    )\n",
    "\n",
    "    # break\n",
    "\n",
    "\n",
    "\n",
    "df = pd.DataFrame(rows)\n",
    "\n",
    "output_path = \"./data/output.csv\"\n",
    "\n",
    "os.makedirs(os.path.dirname(output_path), exist_ok=True)\n",
    "\n",
    "df.to_csv(output_path, index=False)"
   ]
  },
  {
   "cell_type": "code",
   "execution_count": null,
   "metadata": {},
   "outputs": [],
   "source": []
  }
 ],
 "metadata": {
  "kernelspec": {
   "display_name": ".venv",
   "language": "python",
   "name": "python3"
  },
  "language_info": {
   "codemirror_mode": {
    "name": "ipython",
    "version": 3
   },
   "file_extension": ".py",
   "mimetype": "text/x-python",
   "name": "python",
   "nbconvert_exporter": "python",
   "pygments_lexer": "ipython3",
   "version": "3.9.11"
  }
 },
 "nbformat": 4,
 "nbformat_minor": 2
}
