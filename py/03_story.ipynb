{
 "cells": [
  {
   "cell_type": "code",
   "execution_count": 30,
   "metadata": {},
   "outputs": [],
   "source": [
    "from bs4 import BeautifulSoup\n",
    "import pandas as pd\n",
    "from tqdm import tqdm\n",
    "import json\n",
    "import os"
   ]
  },
  {
   "cell_type": "code",
   "execution_count": 31,
   "metadata": {},
   "outputs": [],
   "source": [
    "xml_path = \"/Users/nakamura/git/hori/lab1/tei/DKB01.xml\""
   ]
  },
  {
   "cell_type": "code",
   "execution_count": null,
   "metadata": {},
   "outputs": [],
   "source": [
    "soup = BeautifulSoup(open(xml_path), \"xml\")"
   ]
  },
  {
   "cell_type": "code",
   "execution_count": null,
   "metadata": {},
   "outputs": [
    {
     "data": {
      "text/plain": [
       "4259"
      ]
     },
     "execution_count": 26,
     "metadata": {},
     "output_type": "execute_result"
    }
   ],
   "source": [
    "entries = soup.find_all(\"div\", type=\"diary-entry\")\n",
    "\n",
    "len(entries)"
   ]
  },
  {
   "cell_type": "code",
   "execution_count": null,
   "metadata": {},
   "outputs": [],
   "source": [
    "entity_xml_path = \"/Users/nakamura/git/hori/lab1/tei/entity.xml\"\n",
    "\n",
    "entity_soup = BeautifulSoup(open(entity_xml_path), \"xml\")"
   ]
  },
  {
   "cell_type": "code",
   "execution_count": null,
   "metadata": {},
   "outputs": [],
   "source": [
    "def get_structured_data(html_text):\n",
    "\n",
    "    data = []\n",
    "\n",
    "    # BeautifulSoupでHTMLをパース\n",
    "    soup = BeautifulSoup(html_text, \"html.parser\")\n",
    "\n",
    "    p_str = str(soup.find(\"p\").decode_contents())\n",
    "\n",
    "    segments = p_str.split(\"<time\")\n",
    "\n",
    "    for segment in segments:\n",
    "\n",
    "        item = {}\n",
    "        data.append(item)\n",
    "\n",
    "        if \"</time>\" in segment:\n",
    "            segment = \"<time\" + segment\n",
    "\n",
    "        item[\"text\"] = segment\n",
    "\n",
    "        segment_soup = BeautifulSoup(segment, \"html.parser\")\n",
    "\n",
    "        # print(segment_soup.get_text())\n",
    "\n",
    "        time = segment_soup.find(\"time\")\n",
    "\n",
    "        \n",
    "\n",
    "        if time is not None:\n",
    "            # print(time.get(\"when\"), segment_soup.get_text())\n",
    "            item[\"headline\"] = time.get(\"when\")\n",
    "\n",
    "        places = segment_soup.find_all(\"placename\")\n",
    "\n",
    "        for place in places:\n",
    "            # print(\"*\", place.get_text().strip())\n",
    "\n",
    "            place_id = place.get(\"corresp\")[1:]\n",
    "\n",
    "            # print(place_id)\n",
    "\n",
    "            entity = entity_soup.find(\"place\", {\"xml:id\": place_id})\n",
    "\n",
    "            if entity is None:\n",
    "                continue\n",
    "\n",
    "            geo = entity.find(\"geo\")\n",
    "\n",
    "            if geo is not None:\n",
    "                lat, lng = geo.text.strip().split(\" \")\n",
    "\n",
    "                # print(place_id, lat, lng)\n",
    "\n",
    "                item[\"lat\"] = lat\n",
    "                item[\"lng\"] = lng\n",
    "\n",
    "                break\n",
    "\n",
    "    return data"
   ]
  },
  {
   "cell_type": "code",
   "execution_count": null,
   "metadata": {},
   "outputs": [
    {
     "name": "stderr",
     "output_type": "stream",
     "text": [
      "100%|██████████| 4259/4259 [05:32<00:00, 12.81it/s]\n"
     ]
    }
   ],
   "source": [
    "data_list = []\n",
    "\n",
    "for entry in tqdm(entries): # [0:10]\n",
    "\n",
    "    id = entry.get(\"xml:id\")\n",
    "\n",
    "    date = entry.find(\"date\")\n",
    "\n",
    "    if date is None:\n",
    "        continue\n",
    "\n",
    "    when = date.get(\"when\")\n",
    "\n",
    "    p = entry.find(\"p\")\n",
    "\n",
    "    text = str(p)\n",
    "\n",
    "    \n",
    "\n",
    "    data_list.append(when)\n",
    "\n",
    "    \n",
    "\n",
    "    data = get_structured_data(text)\n",
    "\n",
    "    slides = []\n",
    "\n",
    "    slides.append({\n",
    "        \"date\": \"\",\n",
    "        \"text\": {\n",
    "            \"headline\": when,\n",
    "            \"text\": \"\"\n",
    "        },\n",
    "        \"location\": {\n",
    "            \"line\": True\n",
    "        },\n",
    "        \"type\": \"overview\"\n",
    "    })\n",
    "\n",
    "    for item in data:\n",
    "            \n",
    "        slide = {\n",
    "            \"date\": \"\",\n",
    "            \"text\": {\n",
    "                \"headline\": item[\"headline\"] if \"headline\" in item else \"\",\n",
    "                \"text\": item[\"text\"]\n",
    "            },\n",
    "            # \"type\": \"overview\"\n",
    "        }\n",
    "\n",
    "        if \"lat\" in item:\n",
    "            slide[\"location\"] = {\n",
    "                \"line\": True,\n",
    "                \"lat\": float(item[\"lat\"]),\n",
    "                \"lon\": float(item[\"lng\"]),\n",
    "                \"zoom\": 8\n",
    "            }\n",
    "\n",
    "        slides.append(slide)\n",
    "\n",
    "    final_data = {\n",
    "        \"storymap\": {\n",
    "            \"call_to_action\": True,\n",
    "            \"call_to_action_text\": \"\",\n",
    "            \"map_as_image\": False,\n",
    "            \"slides\": slides,\n",
    "            \"zoomify\": False,\n",
    "            \"map_type\": \"osm:standard\",\n",
    "            \"map_subdomains\": \"\",\n",
    "            \"attribution\": \"\",\n",
    "            \"language\": \"jp\"\n",
    "        },\n",
    "         \"font_css\": \"stock:opensans-gentiumbook\"\n",
    "    }\n",
    "\n",
    "    output_path = f\"../public/data/storymap/date/{when}.json\"\n",
    "    os.makedirs(os.path.dirname(output_path), exist_ok=True)\n",
    "\n",
    "    with open(output_path, \"w\") as f:\n",
    "\n",
    "        f.write(json.dumps(final_data, ensure_ascii=False, indent=4))\n",
    "\n",
    "opath = \"../src/data/storymap/list.json\"\n",
    "\n",
    "os.makedirs(os.path.dirname(opath), exist_ok=True)\n",
    "\n",
    "with open(opath, \"w\") as f:\n",
    "\n",
    "    f.write(json.dumps(data_list, ensure_ascii=False, indent=4))"
   ]
  },
  {
   "cell_type": "code",
   "execution_count": null,
   "metadata": {},
   "outputs": [],
   "source": []
  }
 ],
 "metadata": {
  "kernelspec": {
   "display_name": ".venv",
   "language": "python",
   "name": "python3"
  },
  "language_info": {
   "codemirror_mode": {
    "name": "ipython",
    "version": 3
   },
   "file_extension": ".py",
   "mimetype": "text/x-python",
   "name": "python",
   "nbconvert_exporter": "python",
   "pygments_lexer": "ipython3",
   "version": "3.9.11"
  }
 },
 "nbformat": 4,
 "nbformat_minor": 2
}
