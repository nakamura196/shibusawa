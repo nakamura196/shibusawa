{
 "cells": [
  {
   "cell_type": "code",
   "execution_count": 13,
   "metadata": {},
   "outputs": [],
   "source": [
    "from bs4 import BeautifulSoup\n",
    "import pandas as pd\n",
    "from tqdm import tqdm\n",
    "import json\n",
    "import os"
   ]
  },
  {
   "cell_type": "code",
   "execution_count": 14,
   "metadata": {},
   "outputs": [
    {
     "data": {
      "text/plain": [
       "4259"
      ]
     },
     "execution_count": 14,
     "metadata": {},
     "output_type": "execute_result"
    }
   ],
   "source": [
    "xml_path = \"/Users/nakamura/git/hori/lab1/tei/DKB01.xml\"\n",
    "soup = BeautifulSoup(open(xml_path), \"xml\")\n",
    "entries = soup.find_all(\"div\", type=\"diary-entry\")\n",
    "\n",
    "len(entries)"
   ]
  },
  {
   "cell_type": "code",
   "execution_count": 15,
   "metadata": {},
   "outputs": [
    {
     "name": "stderr",
     "output_type": "stream",
     "text": [
      " 24%|██▍       | 1030/4259 [00:00<00:00, 5004.45it/s]"
     ]
    },
    {
     "name": "stdout",
     "output_type": "stream",
     "text": [
      "1869 not enough values to unpack (expected 3, got 1)\n",
      "1869 not enough values to unpack (expected 3, got 1)\n"
     ]
    },
    {
     "name": "stderr",
     "output_type": "stream",
     "text": [
      "100%|██████████| 4259/4259 [00:00<00:00, 4271.31it/s]\n"
     ]
    }
   ],
   "source": [
    "events = []\n",
    "\n",
    "years = {}\n",
    "\n",
    "for entry in tqdm(entries):\n",
    "\n",
    "    id = entry.get(\"xml:id\")\n",
    "\n",
    "    date = entry.find(\"date\")\n",
    "\n",
    "    if date is None:\n",
    "        continue\n",
    "\n",
    "    when = date.get(\"when\")\n",
    "\n",
    "    try:\n",
    "        \n",
    "        yyyy, mm, dd = when.split(\"-\")\n",
    "    except Exception as e:\n",
    "        print(when, e)\n",
    "        continue\n",
    "\n",
    "    head = entry.find(\"head\")\n",
    "\n",
    "    p = entry.find(\"p\")\n",
    "\n",
    "    '''\n",
    "    if yyyy != \"1868\":\n",
    "        continue\n",
    "    '''\n",
    "\n",
    "    event = {\n",
    "        \"start_date\": {\n",
    "            \"year\": yyyy,\n",
    "            \"month\": mm,\n",
    "            \"day\": dd\n",
    "        },\n",
    "        \"text\": {\n",
    "            \"headline\": str(head.text),\n",
    "            \"text\": str(p)\n",
    "        }\n",
    "    }\n",
    "\n",
    "    # events.append(event)\n",
    "\n",
    "    if yyyy not in years:\n",
    "        years[yyyy] = []\n",
    "\n",
    "    years[yyyy].append(event)\n",
    "\n",
    "    # break\n",
    "\n",
    "data_list = []\n",
    "\n",
    "for year in years:\n",
    "\n",
    "    events = years[year]\n",
    "\n",
    "    final = {\n",
    "        \"title\": {\n",
    "            \"text\": {\n",
    "                # \"headline\": \"DKB01\",\n",
    "                # \"text\": \"DKB01\"\n",
    "                \"headline\": year,\n",
    "                # \"text\": year\n",
    "            }\n",
    "        },\n",
    "        \"events\": events\n",
    "    }\n",
    "\n",
    "    data_list.append(year)\n",
    "\n",
    "    opath = f\"../public/data/timeline/year/{year}.json\"\n",
    "\n",
    "    os.makedirs(os.path.dirname(opath), exist_ok=True)\n",
    "\n",
    "    with open(opath, \"w\") as f:\n",
    "\n",
    "        f.write(json.dumps(final, ensure_ascii=False, indent=4))\n",
    "\n",
    "opath = \"../src/data/timeline/list.json\"\n",
    "\n",
    "os.makedirs(os.path.dirname(opath), exist_ok=True)\n",
    "\n",
    "with open(opath, \"w\") as f:\n",
    "    \n",
    "        f.write(json.dumps(data_list, ensure_ascii=False, indent=4))"
   ]
  },
  {
   "cell_type": "code",
   "execution_count": null,
   "metadata": {},
   "outputs": [],
   "source": []
  }
 ],
 "metadata": {
  "kernelspec": {
   "display_name": ".venv",
   "language": "python",
   "name": "python3"
  },
  "language_info": {
   "codemirror_mode": {
    "name": "ipython",
    "version": 3
   },
   "file_extension": ".py",
   "mimetype": "text/x-python",
   "name": "python",
   "nbconvert_exporter": "python",
   "pygments_lexer": "ipython3",
   "version": "3.9.11"
  }
 },
 "nbformat": 4,
 "nbformat_minor": 2
}
